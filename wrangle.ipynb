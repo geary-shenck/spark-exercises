{
 "cells": [
  {
   "cell_type": "code",
   "execution_count": 2,
   "metadata": {},
   "outputs": [],
   "source": [
    "import pyspark\n",
    "from pyspark.sql import SparkSession\n",
    "from pyspark.sql.functions import col, expr\n",
    "import pyspark.sql.functions as f\n",
    "import pandas as pd\n",
    "\n",
    "from env import get_db_url\n",
    "\n",
    "spark = pyspark.sql.SparkSession.builder.getOrCreate()\n"
   ]
  },
  {
   "cell_type": "markdown",
   "metadata": {},
   "source": [
    "# Acquire"
   ]
  },
  {
   "cell_type": "code",
   "execution_count": 5,
   "metadata": {},
   "outputs": [
    {
     "name": "stdout",
     "output_type": "stream",
     "text": [
      "+------------+-----+-----+----+---+----------+---+---+---+---+-------+\n",
      "|manufacturer|model|displ|year|cyl|     trans|drv|cty|hwy| fl|  class|\n",
      "+------------+-----+-----+----+---+----------+---+---+---+---+-------+\n",
      "|        audi|   a4|  1.8|1999|  4|  auto(l5)|  f| 18| 29|  p|compact|\n",
      "|        audi|   a4|  1.8|1999|  4|manual(m5)|  f| 21| 29|  p|compact|\n",
      "|        audi|   a4|  2.0|2008|  4|manual(m6)|  f| 20| 31|  p|compact|\n",
      "|        audi|   a4|  2.0|2008|  4|  auto(av)|  f| 21| 30|  p|compact|\n",
      "|        audi|   a4|  2.8|1999|  6|  auto(l5)|  f| 16| 26|  p|compact|\n",
      "+------------+-----+-----+----+---+----------+---+---+---+---+-------+\n",
      "only showing top 5 rows\n",
      "\n"
     ]
    },
    {
     "name": "stderr",
     "output_type": "stream",
     "text": [
      "/usr/local/anaconda3/lib/python3.9/site-packages/pyspark/sql/pandas/conversion.py:474: FutureWarning: iteritems is deprecated and will be removed in a future version. Use .items instead.\n",
      "  for column, series in pdf.iteritems():\n",
      "/usr/local/anaconda3/lib/python3.9/site-packages/pyspark/sql/pandas/conversion.py:486: FutureWarning: iteritems is deprecated and will be removed in a future version. Use .items instead.\n",
      "  for column, series in pdf.iteritems():\n"
     ]
    }
   ],
   "source": [
    "from pydataset import data\n",
    "data(\"mpg\")\n",
    "mpg = spark.createDataFrame(data(\"mpg\"))\n",
    "mpg.show(5)"
   ]
  },
  {
   "cell_type": "code",
   "execution_count": 6,
   "metadata": {},
   "outputs": [],
   "source": [
    "mpg.write.json(\"data/mpg_json\",mode=\"overwrite\")"
   ]
  },
  {
   "cell_type": "code",
   "execution_count": 9,
   "metadata": {},
   "outputs": [
    {
     "data": {
      "text/plain": [
       "['part-00001-f73297d3-c230-42ed-8d6d-8298a95df7e3-c000.json',\n",
       " '.part-00002-f73297d3-c230-42ed-8d6d-8298a95df7e3-c000.json.crc',\n",
       " 'part-00004-f73297d3-c230-42ed-8d6d-8298a95df7e3-c000.json',\n",
       " 'part-00009-f73297d3-c230-42ed-8d6d-8298a95df7e3-c000.json',\n",
       " '.part-00011-f73297d3-c230-42ed-8d6d-8298a95df7e3-c000.json.crc',\n",
       " '.part-00008-f73297d3-c230-42ed-8d6d-8298a95df7e3-c000.json.crc',\n",
       " 'part-00011-f73297d3-c230-42ed-8d6d-8298a95df7e3-c000.json',\n",
       " '.part-00001-f73297d3-c230-42ed-8d6d-8298a95df7e3-c000.json.crc',\n",
       " 'part-00006-f73297d3-c230-42ed-8d6d-8298a95df7e3-c000.json',\n",
       " '._SUCCESS.crc',\n",
       " '.part-00006-f73297d3-c230-42ed-8d6d-8298a95df7e3-c000.json.crc',\n",
       " 'part-00003-f73297d3-c230-42ed-8d6d-8298a95df7e3-c000.json',\n",
       " '.part-00005-f73297d3-c230-42ed-8d6d-8298a95df7e3-c000.json.crc',\n",
       " 'part-00002-f73297d3-c230-42ed-8d6d-8298a95df7e3-c000.json',\n",
       " '.part-00003-f73297d3-c230-42ed-8d6d-8298a95df7e3-c000.json.crc',\n",
       " '.part-00010-f73297d3-c230-42ed-8d6d-8298a95df7e3-c000.json.crc',\n",
       " '.part-00009-f73297d3-c230-42ed-8d6d-8298a95df7e3-c000.json.crc',\n",
       " 'part-00007-f73297d3-c230-42ed-8d6d-8298a95df7e3-c000.json',\n",
       " '.part-00000-f73297d3-c230-42ed-8d6d-8298a95df7e3-c000.json.crc',\n",
       " 'part-00010-f73297d3-c230-42ed-8d6d-8298a95df7e3-c000.json',\n",
       " '_SUCCESS',\n",
       " 'part-00008-f73297d3-c230-42ed-8d6d-8298a95df7e3-c000.json',\n",
       " 'part-00005-f73297d3-c230-42ed-8d6d-8298a95df7e3-c000.json',\n",
       " '.part-00007-f73297d3-c230-42ed-8d6d-8298a95df7e3-c000.json.crc',\n",
       " 'part-00000-f73297d3-c230-42ed-8d6d-8298a95df7e3-c000.json',\n",
       " '.part-00004-f73297d3-c230-42ed-8d6d-8298a95df7e3-c000.json.crc']"
      ]
     },
     "execution_count": 9,
     "metadata": {},
     "output_type": "execute_result"
    }
   ],
   "source": [
    "import os\n",
    "os.listdir('data')\n",
    "json_files = os.listdir(\"data/mpg_json\")\n",
    "json_files"
   ]
  },
  {
   "cell_type": "code",
   "execution_count": 12,
   "metadata": {},
   "outputs": [
    {
     "data": {
      "text/plain": [
       "['part-00001-f73297d3-c230-42ed-8d6d-8298a95df7e3-c000.json',\n",
       " 'part-00004-f73297d3-c230-42ed-8d6d-8298a95df7e3-c000.json',\n",
       " 'part-00009-f73297d3-c230-42ed-8d6d-8298a95df7e3-c000.json',\n",
       " 'part-00011-f73297d3-c230-42ed-8d6d-8298a95df7e3-c000.json',\n",
       " 'part-00006-f73297d3-c230-42ed-8d6d-8298a95df7e3-c000.json',\n",
       " 'part-00003-f73297d3-c230-42ed-8d6d-8298a95df7e3-c000.json',\n",
       " 'part-00002-f73297d3-c230-42ed-8d6d-8298a95df7e3-c000.json',\n",
       " 'part-00007-f73297d3-c230-42ed-8d6d-8298a95df7e3-c000.json',\n",
       " 'part-00010-f73297d3-c230-42ed-8d6d-8298a95df7e3-c000.json',\n",
       " '_SUCCESS',\n",
       " 'part-00008-f73297d3-c230-42ed-8d6d-8298a95df7e3-c000.json',\n",
       " 'part-00005-f73297d3-c230-42ed-8d6d-8298a95df7e3-c000.json',\n",
       " 'part-00000-f73297d3-c230-42ed-8d6d-8298a95df7e3-c000.json']"
      ]
     },
     "execution_count": 12,
     "metadata": {},
     "output_type": "execute_result"
    }
   ],
   "source": [
    "json_files = [fn for fn in json_files if not fn.startswith(\".\")]\n",
    "json_files"
   ]
  },
  {
   "cell_type": "code",
   "execution_count": 15,
   "metadata": {},
   "outputs": [],
   "source": [
    "(\n",
    "mpg.write.format(\"csv\")\n",
    ".mode(\"overwrite\")\n",
    ".option(\"header\",\"true\")\n",
    ".save(\"data/mpg_csv\")\n",
    ")"
   ]
  },
  {
   "cell_type": "code",
   "execution_count": null,
   "metadata": {},
   "outputs": [],
   "source": []
  },
  {
   "cell_type": "code",
   "execution_count": 24,
   "metadata": {},
   "outputs": [],
   "source": [
    "csv_files = os.listdir(\"data/mpg_csv\")"
   ]
  },
  {
   "cell_type": "code",
   "execution_count": 16,
   "metadata": {},
   "outputs": [
    {
     "data": {
      "text/plain": [
       "234"
      ]
     },
     "execution_count": 16,
     "metadata": {},
     "output_type": "execute_result"
    }
   ],
   "source": [
    "spark.read.json(\"data/mpg_json\").count()"
   ]
  },
  {
   "cell_type": "code",
   "execution_count": 20,
   "metadata": {},
   "outputs": [
    {
     "data": {
      "text/plain": [
       "19"
      ]
     },
     "execution_count": 20,
     "metadata": {},
     "output_type": "execute_result"
    }
   ],
   "source": [
    "spark.read.json(f\"data/mpg_json/{json_files[0]}\").count()"
   ]
  },
  {
   "cell_type": "code",
   "execution_count": 21,
   "metadata": {},
   "outputs": [
    {
     "data": {
      "text/plain": [
       "246"
      ]
     },
     "execution_count": 21,
     "metadata": {},
     "output_type": "execute_result"
    }
   ],
   "source": [
    "spark.read.csv(\"data/mpg_csv\").count()"
   ]
  },
  {
   "cell_type": "code",
   "execution_count": 27,
   "metadata": {},
   "outputs": [
    {
     "name": "stdout",
     "output_type": "stream",
     "text": [
      "+------------+-----------+-----+----+---+--------+---+---+---+---+-------+\n",
      "|         _c0|        _c1|  _c2| _c3|_c4|     _c5|_c6|_c7|_c8|_c9|   _c10|\n",
      "+------------+-----------+-----+----+---+--------+---+---+---+---+-------+\n",
      "|manufacturer|      model|displ|year|cyl|   trans|drv|cty|hwy| fl|  class|\n",
      "|       dodge|caravan 2wd|  3.0|1999|  6|auto(l4)|  f| 17| 24|  r|minivan|\n",
      "|       dodge|caravan 2wd|  3.3|1999|  6|auto(l4)|  f| 16| 22|  r|minivan|\n",
      "|       dodge|caravan 2wd|  3.3|1999|  6|auto(l4)|  f| 16| 22|  r|minivan|\n",
      "|       dodge|caravan 2wd|  3.3|2008|  6|auto(l4)|  f| 17| 24|  r|minivan|\n",
      "+------------+-----------+-----+----+---+--------+---+---+---+---+-------+\n",
      "only showing top 5 rows\n",
      "\n"
     ]
    }
   ],
   "source": [
    "spark.read.csv(f\"data/mpg_csv/{csv_files[0]}\").show(5)"
   ]
  },
  {
   "cell_type": "code",
   "execution_count": 28,
   "metadata": {},
   "outputs": [
    {
     "name": "stdout",
     "output_type": "stream",
     "text": [
      "+------------+-----+-----+----+---+----------+---+---+---+---+-------+\n",
      "|manufacturer|model|displ|year|cyl|     trans|drv|cty|hwy| fl|  class|\n",
      "+------------+-----+-----+----+---+----------+---+---+---+---+-------+\n",
      "|  volkswagen|  gti|  2.0|2008|  4|manual(m6)|  f| 21| 29|  p|compact|\n",
      "|  volkswagen|  gti|  2.0|2008|  4|  auto(s6)|  f| 22| 29|  p|compact|\n",
      "|  volkswagen|  gti|  2.8|1999|  6|manual(m5)|  f| 17| 24|  r|compact|\n",
      "|  volkswagen|jetta|  1.9|1999|  4|manual(m5)|  f| 33| 44|  d|compact|\n",
      "|  volkswagen|jetta|  2.0|1999|  4|manual(m5)|  f| 21| 29|  r|compact|\n",
      "+------------+-----+-----+----+---+----------+---+---+---+---+-------+\n",
      "only showing top 5 rows\n",
      "\n"
     ]
    }
   ],
   "source": [
    "(spark.read.format(\"csv\")\n",
    ".option(\"header\",True)\n",
    ".load(\"data/mpg_csv\")\n",
    ").show(5)"
   ]
  },
  {
   "cell_type": "code",
   "execution_count": 33,
   "metadata": {},
   "outputs": [
    {
     "data": {
      "text/html": [
       "<div>\n",
       "<style scoped>\n",
       "    .dataframe tbody tr th:only-of-type {\n",
       "        vertical-align: middle;\n",
       "    }\n",
       "\n",
       "    .dataframe tbody tr th {\n",
       "        vertical-align: top;\n",
       "    }\n",
       "\n",
       "    .dataframe thead th {\n",
       "        text-align: right;\n",
       "    }\n",
       "</style>\n",
       "<table border=\"1\" class=\"dataframe\">\n",
       "  <thead>\n",
       "    <tr style=\"text-align: right;\">\n",
       "      <th></th>\n",
       "      <th>source_id</th>\n",
       "      <th>source_username</th>\n",
       "    </tr>\n",
       "  </thead>\n",
       "  <tbody>\n",
       "    <tr>\n",
       "      <th>0</th>\n",
       "      <td>100137</td>\n",
       "      <td>Merlene Blodgett</td>\n",
       "    </tr>\n",
       "    <tr>\n",
       "      <th>1</th>\n",
       "      <td>103582</td>\n",
       "      <td>Carmen Cura</td>\n",
       "    </tr>\n",
       "    <tr>\n",
       "      <th>2</th>\n",
       "      <td>106463</td>\n",
       "      <td>Richard Sanchez</td>\n",
       "    </tr>\n",
       "    <tr>\n",
       "      <th>3</th>\n",
       "      <td>119403</td>\n",
       "      <td>Betty De Hoyos</td>\n",
       "    </tr>\n",
       "    <tr>\n",
       "      <th>4</th>\n",
       "      <td>119555</td>\n",
       "      <td>Socorro Quiara</td>\n",
       "    </tr>\n",
       "  </tbody>\n",
       "</table>\n",
       "</div>"
      ],
      "text/plain": [
       "  source_id   source_username\n",
       "0    100137  Merlene Blodgett\n",
       "1    103582       Carmen Cura\n",
       "2    106463   Richard Sanchez\n",
       "3    119403    Betty De Hoyos\n",
       "4    119555    Socorro Quiara"
      ]
     },
     "execution_count": 33,
     "metadata": {},
     "output_type": "execute_result"
    }
   ],
   "source": [
    "url = get_db_url(\"311_data\")\n",
    "query = ''' select source_id,source_username from source'''\n",
    "pandas_df = pd.read_sql(query,url)\n",
    "pandas_df.head(5)"
   ]
  },
  {
   "cell_type": "code",
   "execution_count": 34,
   "metadata": {},
   "outputs": [
    {
     "name": "stderr",
     "output_type": "stream",
     "text": [
      "/usr/local/anaconda3/lib/python3.9/site-packages/pyspark/sql/pandas/conversion.py:474: FutureWarning: iteritems is deprecated and will be removed in a future version. Use .items instead.\n",
      "  for column, series in pdf.iteritems():\n",
      "/usr/local/anaconda3/lib/python3.9/site-packages/pyspark/sql/pandas/conversion.py:486: FutureWarning: iteritems is deprecated and will be removed in a future version. Use .items instead.\n",
      "  for column, series in pdf.iteritems():\n"
     ]
    },
    {
     "data": {
      "text/plain": [
       "DataFrame[source_id: string, source_username: string]"
      ]
     },
     "execution_count": 34,
     "metadata": {},
     "output_type": "execute_result"
    }
   ],
   "source": [
    "sources = spark.createDataFrame(pandas_df)\n",
    "sources"
   ]
  },
  {
   "cell_type": "code",
   "execution_count": 36,
   "metadata": {},
   "outputs": [
    {
     "name": "stdout",
     "output_type": "stream",
     "text": [
      "+---------+----------------+\n",
      "|source_id| source_username|\n",
      "+---------+----------------+\n",
      "|   100137|Merlene Blodgett|\n",
      "|   103582|     Carmen Cura|\n",
      "|   106463| Richard Sanchez|\n",
      "|   119403|  Betty De Hoyos|\n",
      "|   119555|  Socorro Quiara|\n",
      "+---------+----------------+\n",
      "only showing top 5 rows\n",
      "\n"
     ]
    }
   ],
   "source": [
    "sources.show(5)"
   ]
  },
  {
   "cell_type": "code",
   "execution_count": 38,
   "metadata": {},
   "outputs": [
    {
     "data": {
      "text/plain": [
       "StructType([StructField('source_id', StringType(), True), StructField('source_username', StringType(), True)])"
      ]
     },
     "execution_count": 38,
     "metadata": {},
     "output_type": "execute_result"
    }
   ],
   "source": [
    "sources.schema"
   ]
  },
  {
   "cell_type": "code",
   "execution_count": 39,
   "metadata": {},
   "outputs": [],
   "source": [
    "from pyspark.sql.types import StructType, StructField, StringType"
   ]
  },
  {
   "cell_type": "code",
   "execution_count": 40,
   "metadata": {},
   "outputs": [
    {
     "data": {
      "text/plain": [
       "StructType([StructField('souce_id', StringType(), True), StructField('source_username', StringType(), True)])"
      ]
     },
     "execution_count": 40,
     "metadata": {},
     "output_type": "execute_result"
    }
   ],
   "source": [
    "schema = StructType(\n",
    "    [\n",
    "        StructField(\"souce_id\", StringType()),\n",
    "        StructField(\"source_username\",StringType())\n",
    "    ]\n",
    ")\n",
    "schema"
   ]
  },
  {
   "cell_type": "code",
   "execution_count": 42,
   "metadata": {},
   "outputs": [
    {
     "name": "stderr",
     "output_type": "stream",
     "text": [
      "/usr/local/anaconda3/lib/python3.9/site-packages/pyspark/sql/pandas/conversion.py:486: FutureWarning: iteritems is deprecated and will be removed in a future version. Use .items instead.\n",
      "  for column, series in pdf.iteritems():\n"
     ]
    },
    {
     "name": "stdout",
     "output_type": "stream",
     "text": [
      "12.6 ms ± 2.7 ms per loop (mean ± std. dev. of 7 runs, 100 loops each)\n"
     ]
    }
   ],
   "source": [
    "%%timeit\n",
    "spark.createDataFrame(pandas_df,schema=schema)"
   ]
  },
  {
   "cell_type": "code",
   "execution_count": 43,
   "metadata": {},
   "outputs": [],
   "source": [
    "query = \"select * from cases\"\n",
    "pandas_df = pd.read_sql(query,url)\n"
   ]
  },
  {
   "cell_type": "code",
   "execution_count": 44,
   "metadata": {},
   "outputs": [
    {
     "name": "stderr",
     "output_type": "stream",
     "text": [
      "/usr/local/anaconda3/lib/python3.9/site-packages/pyspark/sql/pandas/conversion.py:474: FutureWarning: iteritems is deprecated and will be removed in a future version. Use .items instead.\n",
      "  for column, series in pdf.iteritems():\n",
      "/usr/local/anaconda3/lib/python3.9/site-packages/pyspark/sql/pandas/conversion.py:486: FutureWarning: iteritems is deprecated and will be removed in a future version. Use .items instead.\n",
      "  for column, series in pdf.iteritems():\n"
     ]
    },
    {
     "data": {
      "text/plain": [
       "DataFrame[case_id: bigint, case_opened_date: string, case_closed_date: string, SLA_due_date: string, case_late: string, num_days_late: double, case_closed: string, dept_division: string, service_request_type: string, SLA_days: double, case_status: string, source_id: string, request_address: string, council_district: bigint]"
      ]
     },
     "execution_count": 44,
     "metadata": {},
     "output_type": "execute_result"
    }
   ],
   "source": [
    "df = spark.createDataFrame(pandas_df)\n",
    "df"
   ]
  },
  {
   "cell_type": "code",
   "execution_count": 45,
   "metadata": {},
   "outputs": [
    {
     "name": "stdout",
     "output_type": "stream",
     "text": [
      "22/10/21 12:05:06 WARN TaskSetManager: Stage 24 contains a task of very large size (12594 KiB). The maximum recommended task size is 1000 KiB.\n"
     ]
    },
    {
     "name": "stderr",
     "output_type": "stream",
     "text": [
      "[Stage 24:>                                                         (0 + 1) / 1]\r"
     ]
    },
    {
     "name": "stdout",
     "output_type": "stream",
     "text": [
      "22/10/21 12:05:10 WARN PythonRunner: Detected deadlock while completing task 0.0 in stage 24 (TID 77): Attempting to kill Python Worker\n",
      "-RECORD 0-----------------------------------------------------\n",
      " case_id              | 1014127332                            \n",
      " case_opened_date     | 1/1/18 0:42                           \n",
      " case_closed_date     | 1/1/18 12:29                          \n",
      " SLA_due_date         | 9/26/20 0:42                          \n",
      " case_late            | NO                                    \n",
      " num_days_late        | -998.5087616                          \n",
      " case_closed          | YES                                   \n",
      " dept_division        | Field Operations                      \n",
      " service_request_type | Stray Animal                          \n",
      " SLA_days             | 999.0                                 \n",
      " case_status          | Closed                                \n",
      " source_id            | svcCRMLS                              \n",
      " request_address      | 2315  EL PASO ST, San Antonio, 78207  \n",
      " council_district     | 5                                     \n",
      "-RECORD 1-----------------------------------------------------\n",
      " case_id              | 1014127333                            \n",
      " case_opened_date     | 1/1/18 0:46                           \n",
      " case_closed_date     | 1/3/18 8:11                           \n",
      " SLA_due_date         | 1/5/18 8:30                           \n",
      " case_late            | NO                                    \n",
      " num_days_late        | -2.012604167                          \n",
      " case_closed          | YES                                   \n",
      " dept_division        | Storm Water                           \n",
      " service_request_type | Removal Of Obstruction                \n",
      " SLA_days             | 4.322222222                           \n",
      " case_status          | Closed                                \n",
      " source_id            | svcCRMSS                              \n",
      " request_address      | 2215  GOLIAD RD, San Antonio, 78223   \n",
      " council_district     | 3                                     \n",
      "-RECORD 2-----------------------------------------------------\n",
      " case_id              | 1014127334                            \n",
      " case_opened_date     | 1/1/18 0:48                           \n",
      " case_closed_date     | 1/2/18 7:57                           \n",
      " SLA_due_date         | 1/5/18 8:30                           \n",
      " case_late            | NO                                    \n",
      " num_days_late        | -3.022337963                          \n",
      " case_closed          | YES                                   \n",
      " dept_division        | Storm Water                           \n",
      " service_request_type | Removal Of Obstruction                \n",
      " SLA_days             | 4.320729167                           \n",
      " case_status          | Closed                                \n",
      " source_id            | svcCRMSS                              \n",
      " request_address      | 102  PALFREY ST W, San Antonio, 78223 \n",
      " council_district     | 3                                     \n",
      "only showing top 3 rows\n",
      "\n"
     ]
    },
    {
     "name": "stderr",
     "output_type": "stream",
     "text": [
      "                                                                                \r"
     ]
    }
   ],
   "source": [
    "df.show(3, vertical=True,truncate=False)"
   ]
  },
  {
   "cell_type": "code",
   "execution_count": 48,
   "metadata": {},
   "outputs": [
    {
     "data": {
      "text/plain": [
       "[('case_id', 'bigint'),\n",
       " ('case_opened_date', 'string'),\n",
       " ('case_closed_date', 'string'),\n",
       " ('SLA_due_date', 'string'),\n",
       " ('case_late', 'string'),\n",
       " ('num_days_late', 'double'),\n",
       " ('case_closed', 'string'),\n",
       " ('dept_division', 'string'),\n",
       " ('service_request_type', 'string'),\n",
       " ('SLA_days', 'double'),\n",
       " ('case_status', 'string'),\n",
       " ('source_id', 'string'),\n",
       " ('request_address', 'string'),\n",
       " ('council_district', 'bigint')]"
      ]
     },
     "execution_count": 48,
     "metadata": {},
     "output_type": "execute_result"
    }
   ],
   "source": [
    "df.dtypes"
   ]
  },
  {
   "cell_type": "code",
   "execution_count": 51,
   "metadata": {},
   "outputs": [
    {
     "name": "stdout",
     "output_type": "stream",
     "text": [
      "22/10/21 12:06:22 WARN TaskSetManager: Stage 26 contains a task of very large size (12594 KiB). The maximum recommended task size is 1000 KiB.\n"
     ]
    },
    {
     "name": "stderr",
     "output_type": "stream",
     "text": [
      "[Stage 26:>                                                         (0 + 1) / 1]\r"
     ]
    },
    {
     "name": "stdout",
     "output_type": "stream",
     "text": [
      "22/10/21 12:06:26 WARN PythonRunner: Detected deadlock while completing task 0.0 in stage 26 (TID 79): Attempting to kill Python Worker\n",
      "-RECORD 0------------------------------------\n",
      " case_id              | 1014127332           \n",
      " case_opened_date     | 1/1/18 0:42          \n",
      " case_closed_date     | 1/1/18 12:29         \n",
      " case_due_date        | 9/26/20 0:42         \n",
      " case_late            | NO                   \n",
      " num_days_late        | -998.5087616         \n",
      " case_closed          | YES                  \n",
      " dept_division        | Field Operations     \n",
      " service_request_type | Stray Animal         \n",
      " SLA_days             | 999.0                \n",
      " case_status          | Closed               \n",
      " source_id            | svcCRMLS             \n",
      " request_address      | 2315  EL PASO ST,... \n",
      " council_district     | 5                    \n",
      "only showing top 1 row\n",
      "\n"
     ]
    },
    {
     "name": "stderr",
     "output_type": "stream",
     "text": [
      "                                                                                \r"
     ]
    }
   ],
   "source": [
    "df = df.withColumnRenamed(\"SLA_due_date\",\"case_due_date\")\n",
    "df.show(1, vertical=True)"
   ]
  },
  {
   "cell_type": "code",
   "execution_count": 53,
   "metadata": {},
   "outputs": [
    {
     "name": "stdout",
     "output_type": "stream",
     "text": [
      "22/10/21 12:08:08 WARN TaskSetManager: Stage 30 contains a task of very large size (12594 KiB). The maximum recommended task size is 1000 KiB.\n"
     ]
    },
    {
     "name": "stderr",
     "output_type": "stream",
     "text": [
      "                                                                                \r"
     ]
    },
    {
     "name": "stdout",
     "output_type": "stream",
     "text": [
      "+-----------+\n",
      "|case_closed|\n",
      "+-----------+\n",
      "|        YES|\n",
      "|         NO|\n",
      "+-----------+\n",
      "\n",
      "22/10/21 12:08:10 WARN TaskSetManager: Stage 33 contains a task of very large size (12594 KiB). The maximum recommended task size is 1000 KiB.\n"
     ]
    },
    {
     "name": "stderr",
     "output_type": "stream",
     "text": [
      "[Stage 33:>                                                       (0 + 12) / 12]\r"
     ]
    },
    {
     "name": "stdout",
     "output_type": "stream",
     "text": [
      "+---------+\n",
      "|case_late|\n",
      "+---------+\n",
      "|      YES|\n",
      "|       NO|\n",
      "+---------+\n",
      "\n"
     ]
    },
    {
     "name": "stderr",
     "output_type": "stream",
     "text": [
      "                                                                                \r"
     ]
    },
    {
     "data": {
      "text/plain": [
       "(None, None)"
      ]
     },
     "execution_count": 53,
     "metadata": {},
     "output_type": "execute_result"
    }
   ],
   "source": [
    "df.select(\"case_closed\").distinct().show(),\\\n",
    "    df.select(\"case_late\").distinct().show()"
   ]
  },
  {
   "cell_type": "code",
   "execution_count": 58,
   "metadata": {},
   "outputs": [
    {
     "name": "stdout",
     "output_type": "stream",
     "text": [
      "22/10/21 12:11:08 WARN TaskSetManager: Stage 38 contains a task of very large size (12594 KiB). The maximum recommended task size is 1000 KiB.\n"
     ]
    },
    {
     "name": "stderr",
     "output_type": "stream",
     "text": [
      "[Stage 38:>                                                       (0 + 12) / 12]\r"
     ]
    },
    {
     "name": "stdout",
     "output_type": "stream",
     "text": [
      "+-----------+\n",
      "|case_closed|\n",
      "+-----------+\n",
      "|       true|\n",
      "|      false|\n",
      "+-----------+\n",
      "\n"
     ]
    },
    {
     "name": "stderr",
     "output_type": "stream",
     "text": [
      "                                                                                \r"
     ]
    }
   ],
   "source": [
    "df.withColumn(\"case_closed\",\n",
    "            expr(\"case_closed == 'YES'\")\n",
    "            ).select(\"case_closed\").distinct().show()"
   ]
  },
  {
   "cell_type": "code",
   "execution_count": 61,
   "metadata": {},
   "outputs": [
    {
     "name": "stdout",
     "output_type": "stream",
     "text": [
      "22/10/21 12:12:45 WARN TaskSetManager: Stage 41 contains a task of very large size (12594 KiB). The maximum recommended task size is 1000 KiB.\n"
     ]
    },
    {
     "name": "stderr",
     "output_type": "stream",
     "text": [
      "[Stage 41:>                                                         (0 + 1) / 1]\r"
     ]
    },
    {
     "name": "stdout",
     "output_type": "stream",
     "text": [
      "22/10/21 12:12:49 WARN PythonRunner: Detected deadlock while completing task 0.0 in stage 41 (TID 134): Attempting to kill Python Worker\n",
      "-RECORD 0------------------------------------\n",
      " case_id              | 1014127332           \n",
      " case_opened_date     | 1/1/18 0:42          \n",
      " case_closed_date     | 1/1/18 12:29         \n",
      " case_due_date        | 9/26/20 0:42         \n",
      " case_late            | false                \n",
      " num_days_late        | -998.5087616         \n",
      " case_closed          | true                 \n",
      " dept_division        | Field Operations     \n",
      " service_request_type | Stray Animal         \n",
      " SLA_days             | 999.0                \n",
      " case_status          | Closed               \n",
      " source_id            | svcCRMLS             \n",
      " request_address      | 2315  EL PASO ST,... \n",
      " council_district     | 5                    \n",
      "only showing top 1 row\n",
      "\n"
     ]
    },
    {
     "name": "stderr",
     "output_type": "stream",
     "text": [
      "                                                                                \r"
     ]
    }
   ],
   "source": [
    "df = df.withColumn(\"case_closed\",\n",
    "            expr(\"case_closed == 'YES'\")\n",
    "            )\n",
    "df = df.withColumn(\"case_late\",\n",
    "            expr(\"case_late == 'YES'\")\n",
    "            )\n",
    "df.show(1,vertical=True)"
   ]
  },
  {
   "cell_type": "code",
   "execution_count": 62,
   "metadata": {},
   "outputs": [
    {
     "name": "stdout",
     "output_type": "stream",
     "text": [
      "22/10/21 12:15:05 WARN TaskSetManager: Stage 42 contains a task of very large size (12594 KiB). The maximum recommended task size is 1000 KiB.\n"
     ]
    },
    {
     "name": "stderr",
     "output_type": "stream",
     "text": [
      "[Stage 42:>                                                       (0 + 12) / 12]\r"
     ]
    },
    {
     "name": "stdout",
     "output_type": "stream",
     "text": [
      "+-----------+---------+\n",
      "|case_closed|case_late|\n",
      "+-----------+---------+\n",
      "|       true|    false|\n",
      "|       true|     true|\n",
      "|      false|    false|\n",
      "|      false|     true|\n",
      "+-----------+---------+\n",
      "\n"
     ]
    },
    {
     "name": "stderr",
     "output_type": "stream",
     "text": [
      "                                                                                \r"
     ]
    }
   ],
   "source": [
    "df.select(\"case_closed\",\"case_late\").distinct().show(4)"
   ]
  },
  {
   "cell_type": "code",
   "execution_count": 65,
   "metadata": {},
   "outputs": [
    {
     "name": "stdout",
     "output_type": "stream",
     "text": [
      "22/10/21 12:15:57 WARN TaskSetManager: Stage 45 contains a task of very large size (12594 KiB). The maximum recommended task size is 1000 KiB.\n"
     ]
    },
    {
     "name": "stderr",
     "output_type": "stream",
     "text": [
      "[Stage 45:>                                                       (0 + 12) / 12]\r"
     ]
    },
    {
     "name": "stdout",
     "output_type": "stream",
     "text": [
      "+----------------+------+\n",
      "|council_district| count|\n",
      "+----------------+------+\n",
      "|               0|  3830|\n",
      "|               7| 72445|\n",
      "|               6| 74095|\n",
      "|               9| 40916|\n",
      "|               5|114609|\n",
      "|               1|119309|\n",
      "|              10| 62926|\n",
      "|               3|102706|\n",
      "|               8| 42345|\n",
      "|               2|114745|\n",
      "|               4| 93778|\n",
      "+----------------+------+\n",
      "\n"
     ]
    },
    {
     "name": "stderr",
     "output_type": "stream",
     "text": [
      "                                                                                \r"
     ]
    },
    {
     "data": {
      "text/plain": [
       "([('case_id', 'bigint'),\n",
       "  ('case_opened_date', 'string'),\n",
       "  ('case_closed_date', 'string'),\n",
       "  ('case_due_date', 'string'),\n",
       "  ('case_late', 'boolean'),\n",
       "  ('num_days_late', 'double'),\n",
       "  ('case_closed', 'boolean'),\n",
       "  ('dept_division', 'string'),\n",
       "  ('service_request_type', 'string'),\n",
       "  ('SLA_days', 'double'),\n",
       "  ('case_status', 'string'),\n",
       "  ('source_id', 'string'),\n",
       "  ('request_address', 'string'),\n",
       "  ('council_district', 'bigint')],\n",
       " None)"
      ]
     },
     "execution_count": 65,
     "metadata": {},
     "output_type": "execute_result"
    }
   ],
   "source": [
    "df.dtypes,df.groupBy(\"council_district\").count().show()"
   ]
  },
  {
   "cell_type": "code",
   "execution_count": 69,
   "metadata": {},
   "outputs": [
    {
     "name": "stdout",
     "output_type": "stream",
     "text": [
      "22/10/21 12:17:28 WARN TaskSetManager: Stage 49 contains a task of very large size (12594 KiB). The maximum recommended task size is 1000 KiB.\n"
     ]
    },
    {
     "name": "stderr",
     "output_type": "stream",
     "text": [
      "[Stage 49:>                                                         (0 + 1) / 1]\r"
     ]
    },
    {
     "name": "stdout",
     "output_type": "stream",
     "text": [
      "22/10/21 12:17:32 WARN PythonRunner: Detected deadlock while completing task 0.0 in stage 49 (TID 162): Attempting to kill Python Worker\n",
      "-RECORD 0------------------------------------\n",
      " case_id              | 1014127332           \n",
      " case_opened_date     | 1/1/18 0:42          \n",
      " case_closed_date     | 1/1/18 12:29         \n",
      " case_due_date        | 9/26/20 0:42         \n",
      " case_late            | false                \n",
      " num_days_late        | -998.5087616         \n",
      " case_closed          | true                 \n",
      " dept_division        | Field Operations     \n",
      " service_request_type | Stray Animal         \n",
      " SLA_days             | 999.0                \n",
      " case_status          | Closed               \n",
      " source_id            | svcCRMLS             \n",
      " request_address      | 2315  EL PASO ST,... \n",
      " council_district     | 5                    \n",
      "only showing top 1 row\n",
      "\n"
     ]
    },
    {
     "name": "stderr",
     "output_type": "stream",
     "text": [
      "                                                                                \r"
     ]
    },
    {
     "data": {
      "text/plain": [
       "(None,\n",
       " [('case_id', 'bigint'),\n",
       "  ('case_opened_date', 'string'),\n",
       "  ('case_closed_date', 'string'),\n",
       "  ('case_due_date', 'string'),\n",
       "  ('case_late', 'boolean'),\n",
       "  ('num_days_late', 'double'),\n",
       "  ('case_closed', 'boolean'),\n",
       "  ('dept_division', 'string'),\n",
       "  ('service_request_type', 'string'),\n",
       "  ('SLA_days', 'double'),\n",
       "  ('case_status', 'string'),\n",
       "  ('source_id', 'string'),\n",
       "  ('request_address', 'string'),\n",
       "  ('council_district', 'string')])"
      ]
     },
     "execution_count": 69,
     "metadata": {},
     "output_type": "execute_result"
    }
   ],
   "source": [
    "df = df.withColumn(\"council_district\",col(\"council_district\").cast(\"string\"))\n",
    "df.show(1,vertical=True),df.dtypes"
   ]
  },
  {
   "cell_type": "code",
   "execution_count": 70,
   "metadata": {},
   "outputs": [
    {
     "name": "stdout",
     "output_type": "stream",
     "text": [
      "22/10/21 12:18:27 WARN TaskSetManager: Stage 50 contains a task of very large size (12594 KiB). The maximum recommended task size is 1000 KiB.\n"
     ]
    },
    {
     "name": "stderr",
     "output_type": "stream",
     "text": [
      "[Stage 50:>                                                         (0 + 1) / 1]\r"
     ]
    },
    {
     "name": "stdout",
     "output_type": "stream",
     "text": [
      "22/10/21 12:18:31 WARN PythonRunner: Detected deadlock while completing task 0.0 in stage 50 (TID 163): Attempting to kill Python Worker\n",
      "+----------------+----------------+-------------+\n",
      "|case_opened_date|case_closed_date|case_due_date|\n",
      "+----------------+----------------+-------------+\n",
      "|     1/1/18 0:42|    1/1/18 12:29| 9/26/20 0:42|\n",
      "|     1/1/18 0:46|     1/3/18 8:11|  1/5/18 8:30|\n",
      "|     1/1/18 0:48|     1/2/18 7:57|  1/5/18 8:30|\n",
      "|     1/1/18 1:29|     1/2/18 8:13| 1/17/18 8:30|\n",
      "|     1/1/18 1:34|    1/1/18 13:29|  1/1/18 4:34|\n",
      "+----------------+----------------+-------------+\n",
      "only showing top 5 rows\n",
      "\n"
     ]
    },
    {
     "name": "stderr",
     "output_type": "stream",
     "text": [
      "                                                                                \r"
     ]
    }
   ],
   "source": [
    "df.select(\"case_opened_date\",\"case_closed_date\",\"case_due_date\").show(5)"
   ]
  },
  {
   "cell_type": "code",
   "execution_count": 72,
   "metadata": {},
   "outputs": [
    {
     "name": "stdout",
     "output_type": "stream",
     "text": [
      "22/10/21 12:19:29 WARN TaskSetManager: Stage 51 contains a task of very large size (12594 KiB). The maximum recommended task size is 1000 KiB.\n"
     ]
    },
    {
     "name": "stderr",
     "output_type": "stream",
     "text": [
      "[Stage 51:>                                                         (0 + 1) / 1]\r"
     ]
    },
    {
     "name": "stdout",
     "output_type": "stream",
     "text": [
      "22/10/21 12:19:33 WARN PythonRunner: Detected deadlock while completing task 0.0 in stage 51 (TID 164): Attempting to kill Python Worker\n",
      "+----------------+\n",
      "|case_opened_date|\n",
      "+----------------+\n",
      "|            null|\n",
      "|            null|\n",
      "|            null|\n",
      "|            null|\n",
      "|            null|\n",
      "|            null|\n",
      "|            null|\n",
      "|            null|\n",
      "|            null|\n",
      "|            null|\n",
      "|            null|\n",
      "|            null|\n",
      "|            null|\n",
      "|            null|\n",
      "|            null|\n",
      "|            null|\n",
      "|            null|\n",
      "|            null|\n",
      "|            null|\n",
      "|            null|\n",
      "+----------------+\n",
      "only showing top 20 rows\n",
      "\n"
     ]
    },
    {
     "name": "stderr",
     "output_type": "stream",
     "text": [
      "                                                                                \r"
     ]
    }
   ],
   "source": [
    "df.withColumn(\"case_opened_date\",f.to_timestamp(\"case_opened_date\")).select(\"case_opened_date\").show()"
   ]
  },
  {
   "cell_type": "code",
   "execution_count": 73,
   "metadata": {},
   "outputs": [
    {
     "name": "stdout",
     "output_type": "stream",
     "text": [
      "22/10/21 12:21:12 WARN TaskSetManager: Stage 52 contains a task of very large size (12594 KiB). The maximum recommended task size is 1000 KiB.\n"
     ]
    },
    {
     "name": "stderr",
     "output_type": "stream",
     "text": [
      "[Stage 52:>                                                         (0 + 1) / 1]\r"
     ]
    },
    {
     "name": "stdout",
     "output_type": "stream",
     "text": [
      "22/10/21 12:21:16 WARN PythonRunner: Detected deadlock while completing task 0.0 in stage 52 (TID 165): Attempting to kill Python Worker\n",
      "+-------------------+\n",
      "|   case_opened_date|\n",
      "+-------------------+\n",
      "|2018-01-01 00:42:00|\n",
      "|2018-01-01 00:46:00|\n",
      "|2018-01-01 00:48:00|\n",
      "|2018-01-01 01:29:00|\n",
      "|2018-01-01 01:34:00|\n",
      "|2018-01-01 06:28:00|\n",
      "|2018-01-01 06:57:00|\n",
      "|2018-01-01 06:58:00|\n",
      "|2018-01-01 06:58:00|\n",
      "|2018-01-01 06:59:00|\n",
      "|2018-01-01 07:00:00|\n",
      "|2018-01-01 07:02:00|\n",
      "|2018-01-01 07:02:00|\n",
      "|2018-01-01 07:03:00|\n",
      "|2018-01-01 07:04:00|\n",
      "|2018-01-01 07:04:00|\n",
      "|2018-01-01 07:05:00|\n",
      "|2018-01-01 07:06:00|\n",
      "|2018-01-01 07:06:00|\n",
      "|2018-01-01 07:07:00|\n",
      "+-------------------+\n",
      "only showing top 20 rows\n",
      "\n"
     ]
    },
    {
     "name": "stderr",
     "output_type": "stream",
     "text": [
      "                                                                                \r"
     ]
    }
   ],
   "source": [
    "fmt = 'M/d/yy H:m'\n",
    "\n",
    "df.withColumn(\"case_opened_date\",f.to_timestamp(\"case_opened_date\",fmt))\\\n",
    "    .select(\"case_opened_date\").show()"
   ]
  },
  {
   "cell_type": "code",
   "execution_count": 79,
   "metadata": {},
   "outputs": [
    {
     "name": "stdout",
     "output_type": "stream",
     "text": [
      "22/10/21 12:24:12 WARN TaskSetManager: Stage 55 contains a task of very large size (12594 KiB). The maximum recommended task size is 1000 KiB.\n"
     ]
    },
    {
     "name": "stderr",
     "output_type": "stream",
     "text": [
      "[Stage 55:>                                                         (0 + 1) / 1]\r"
     ]
    },
    {
     "name": "stdout",
     "output_type": "stream",
     "text": [
      "22/10/21 12:24:16 WARN PythonRunner: Detected deadlock while completing task 0.0 in stage 55 (TID 168): Attempting to kill Python Worker\n",
      "-RECORD 0------------------------------------\n",
      " case_id              | 1014127332           \n",
      " case_opened_date     | 2018-01-01 00:42:00  \n",
      " case_closed_date     | 2018-01-01 12:29:00  \n",
      " case_due_date        | 2020-09-26 00:42:00  \n",
      " case_late            | false                \n",
      " num_days_late        | -998.5087616         \n",
      " case_closed          | true                 \n",
      " dept_division        | Field Operations     \n",
      " service_request_type | Stray Animal         \n",
      " SLA_days             | 999.0                \n",
      " case_status          | Closed               \n",
      " source_id            | svcCRMLS             \n",
      " request_address      | 2315  EL PASO ST,... \n",
      " council_district     | 5                    \n",
      "only showing top 1 row\n",
      "\n"
     ]
    },
    {
     "name": "stderr",
     "output_type": "stream",
     "text": [
      "                                                                                \r"
     ]
    },
    {
     "data": {
      "text/plain": [
       "(None,\n",
       " [('case_id', 'bigint'),\n",
       "  ('case_opened_date', 'timestamp'),\n",
       "  ('case_closed_date', 'timestamp'),\n",
       "  ('case_due_date', 'timestamp'),\n",
       "  ('case_late', 'boolean'),\n",
       "  ('num_days_late', 'double'),\n",
       "  ('case_closed', 'boolean'),\n",
       "  ('dept_division', 'string'),\n",
       "  ('service_request_type', 'string'),\n",
       "  ('SLA_days', 'double'),\n",
       "  ('case_status', 'string'),\n",
       "  ('source_id', 'string'),\n",
       "  ('request_address', 'string'),\n",
       "  ('council_district', 'string')])"
      ]
     },
     "execution_count": 79,
     "metadata": {},
     "output_type": "execute_result"
    }
   ],
   "source": [
    "df = (\n",
    "    df.withColumn(\"case_opened_date\",f.to_timestamp(\"case_opened_date\",fmt))\\\n",
    "    .withColumn(\"case_closed_date\",f.to_timestamp(\"case_closed_date\",fmt))\\\n",
    "    .withColumn(\"case_due_date\",f.to_timestamp(\"case_due_date\",fmt))\n",
    "    )\n",
    "df.show(1,vertical=True),df.dtypes"
   ]
  },
  {
   "cell_type": "code",
   "execution_count": 80,
   "metadata": {},
   "outputs": [
    {
     "name": "stdout",
     "output_type": "stream",
     "text": [
      "22/10/21 12:25:44 WARN TaskSetManager: Stage 56 contains a task of very large size (12594 KiB). The maximum recommended task size is 1000 KiB.\n"
     ]
    },
    {
     "name": "stderr",
     "output_type": "stream",
     "text": [
      "[Stage 56:>                                                         (0 + 1) / 1]\r"
     ]
    },
    {
     "name": "stdout",
     "output_type": "stream",
     "text": [
      "22/10/21 12:25:48 WARN PythonRunner: Detected deadlock while completing task 0.0 in stage 56 (TID 169): Attempting to kill Python Worker\n",
      "+-------------------------------------+\n",
      "|request_address                      |\n",
      "+-------------------------------------+\n",
      "|2315  EL PASO ST, San Antonio, 78207 |\n",
      "|2215  GOLIAD RD, San Antonio, 78223  |\n",
      "|102  PALFREY ST W, San Antonio, 78223|\n",
      "|114  LA GARDE ST, San Antonio, 78223 |\n",
      "|734  CLEARVIEW DR, San Antonio, 78228|\n",
      "+-------------------------------------+\n",
      "only showing top 5 rows\n",
      "\n"
     ]
    },
    {
     "name": "stderr",
     "output_type": "stream",
     "text": [
      "                                                                                \r"
     ]
    }
   ],
   "source": [
    "df.select(\"request_address\").show(5,truncate=False)"
   ]
  },
  {
   "cell_type": "code",
   "execution_count": 81,
   "metadata": {},
   "outputs": [
    {
     "name": "stdout",
     "output_type": "stream",
     "text": [
      "22/10/21 12:27:00 WARN TaskSetManager: Stage 57 contains a task of very large size (12594 KiB). The maximum recommended task size is 1000 KiB.\n"
     ]
    },
    {
     "name": "stderr",
     "output_type": "stream",
     "text": [
      "[Stage 57:>                                                         (0 + 1) / 1]\r"
     ]
    },
    {
     "name": "stdout",
     "output_type": "stream",
     "text": [
      "22/10/21 12:27:04 WARN PythonRunner: Detected deadlock while completing task 0.0 in stage 57 (TID 170): Attempting to kill Python Worker\n",
      "+--------------------+\n",
      "|     request_address|\n",
      "+--------------------+\n",
      "|2315  el paso st,...|\n",
      "|2215  goliad rd, ...|\n",
      "|102  palfrey st w...|\n",
      "|114  la garde st,...|\n",
      "|734  clearview dr...|\n",
      "+--------------------+\n",
      "only showing top 5 rows\n",
      "\n"
     ]
    },
    {
     "name": "stderr",
     "output_type": "stream",
     "text": [
      "                                                                                \r"
     ]
    }
   ],
   "source": [
    "df.withColumn(\"request_address\",f.trim(f.lower(\"request_address\")))\\\n",
    "    .select(\"request_address\").show(5)"
   ]
  },
  {
   "cell_type": "code",
   "execution_count": 82,
   "metadata": {},
   "outputs": [
    {
     "name": "stdout",
     "output_type": "stream",
     "text": [
      "22/10/21 12:27:55 WARN TaskSetManager: Stage 58 contains a task of very large size (12594 KiB). The maximum recommended task size is 1000 KiB.\n"
     ]
    },
    {
     "name": "stderr",
     "output_type": "stream",
     "text": [
      "[Stage 58:>                                                         (0 + 1) / 1]\r"
     ]
    },
    {
     "name": "stdout",
     "output_type": "stream",
     "text": [
      "22/10/21 12:27:59 WARN PythonRunner: Detected deadlock while completing task 0.0 in stage 58 (TID 171): Attempting to kill Python Worker\n",
      "+--------------------+\n",
      "|     request_address|\n",
      "+--------------------+\n",
      "|2315  el paso st,...|\n",
      "|2215  goliad rd, ...|\n",
      "|102  palfrey st w...|\n",
      "+--------------------+\n",
      "only showing top 3 rows\n",
      "\n"
     ]
    },
    {
     "name": "stderr",
     "output_type": "stream",
     "text": [
      "                                                                                \r"
     ]
    },
    {
     "name": "stdout",
     "output_type": "stream",
     "text": [
      "22/10/21 13:08:39 WARN HeartbeatReceiver: Removing executor driver with no recent heartbeats: 1804152 ms exceeds timeout 120000 ms\n",
      "22/10/21 13:08:39 WARN SparkContext: Killing executors is not supported by current scheduler.\n"
     ]
    }
   ],
   "source": [
    "df = df.withColumn(\"request_address\",f.trim(f.lower(\"request_address\")))\n",
    "df.select(\"request_address\").show(3)"
   ]
  },
  {
   "cell_type": "code",
   "execution_count": 83,
   "metadata": {},
   "outputs": [
    {
     "name": "stdout",
     "output_type": "stream",
     "text": [
      "22/10/21 13:34:59 WARN TaskSetManager: Stage 59 contains a task of very large size (12594 KiB). The maximum recommended task size is 1000 KiB.\n"
     ]
    },
    {
     "name": "stderr",
     "output_type": "stream",
     "text": [
      "[Stage 59:>                                                         (0 + 1) / 1]\r"
     ]
    },
    {
     "name": "stdout",
     "output_type": "stream",
     "text": [
      "22/10/21 13:35:03 WARN PythonRunner: Detected deadlock while completing task 0.0 in stage 59 (TID 172): Attempting to kill Python Worker\n",
      "+-------------+--------------------+\n",
      "|num_days_late|      num_weeks_late|\n",
      "+-------------+--------------------+\n",
      "| -998.5087616|        -142.6441088|\n",
      "| -2.012604167|        -0.287514881|\n",
      "| -3.022337963|-0.43176256614285713|\n",
      "| -15.01148148| -2.1444973542857144|\n",
      "|  0.372164352|0.053166335999999995|\n",
      "+-------------+--------------------+\n",
      "only showing top 5 rows\n",
      "\n"
     ]
    },
    {
     "name": "stderr",
     "output_type": "stream",
     "text": [
      "                                                                                \r"
     ]
    }
   ],
   "source": [
    "df = df.withColumn('num_weeks_late',expr(\"num_days_late/7\"))\n",
    "df.select(\"num_days_late\",\"num_weeks_late\").show(5)"
   ]
  },
  {
   "cell_type": "code",
   "execution_count": 84,
   "metadata": {},
   "outputs": [
    {
     "data": {
      "text/plain": [
       "['case_id',\n",
       " 'case_opened_date',\n",
       " 'case_closed_date',\n",
       " 'case_due_date',\n",
       " 'case_late',\n",
       " 'case_closed',\n",
       " 'dept_division',\n",
       " 'service_request_type',\n",
       " 'SLA_days',\n",
       " 'case_status',\n",
       " 'source_id',\n",
       " 'request_address',\n",
       " 'council_district',\n",
       " 'num_weeks_late']"
      ]
     },
     "execution_count": 84,
     "metadata": {},
     "output_type": "execute_result"
    }
   ],
   "source": [
    "## if wanted to drop \n",
    "df.drop(\"num_days_late\").columns"
   ]
  },
  {
   "cell_type": "code",
   "execution_count": 85,
   "metadata": {},
   "outputs": [
    {
     "name": "stdout",
     "output_type": "stream",
     "text": [
      "22/10/21 13:36:24 WARN TaskSetManager: Stage 60 contains a task of very large size (12594 KiB). The maximum recommended task size is 1000 KiB.\n"
     ]
    },
    {
     "name": "stderr",
     "output_type": "stream",
     "text": [
      "[Stage 60:>                                                       (0 + 12) / 12]\r"
     ]
    },
    {
     "name": "stdout",
     "output_type": "stream",
     "text": [
      "+----------------+\n",
      "|council_district|\n",
      "+----------------+\n",
      "|               7|\n",
      "|               3|\n",
      "|               8|\n",
      "+----------------+\n",
      "only showing top 3 rows\n",
      "\n"
     ]
    },
    {
     "name": "stderr",
     "output_type": "stream",
     "text": [
      "                                                                                \r"
     ]
    }
   ],
   "source": [
    "df.select(\"council_district\").distinct().show(3)"
   ]
  },
  {
   "cell_type": "code",
   "execution_count": 87,
   "metadata": {},
   "outputs": [
    {
     "name": "stdout",
     "output_type": "stream",
     "text": [
      "22/10/21 13:38:40 WARN TaskSetManager: Stage 64 contains a task of very large size (12594 KiB). The maximum recommended task size is 1000 KiB.\n"
     ]
    },
    {
     "name": "stderr",
     "output_type": "stream",
     "text": [
      "[Stage 64:>                                                         (0 + 1) / 1]\r"
     ]
    },
    {
     "name": "stdout",
     "output_type": "stream",
     "text": [
      "22/10/21 13:38:44 WARN PythonRunner: Detected deadlock while completing task 0.0 in stage 64 (TID 187): Attempting to kill Python Worker\n",
      "+----------------+\n",
      "|council_district|\n",
      "+----------------+\n",
      "|             005|\n",
      "|             003|\n",
      "|             003|\n",
      "+----------------+\n",
      "only showing top 3 rows\n",
      "\n"
     ]
    },
    {
     "name": "stderr",
     "output_type": "stream",
     "text": [
      "                                                                                \r"
     ]
    }
   ],
   "source": [
    "df.withColumn(\n",
    "    \"council_district\",f.format_string(\n",
    "        \"%03d\",col(\"council_district\").cast(\"int\")\n",
    "    )\n",
    ").select(\"council_district\").show(3)"
   ]
  },
  {
   "cell_type": "code",
   "execution_count": 88,
   "metadata": {},
   "outputs": [],
   "source": [
    "df = df.withColumn(\n",
    "    \"council_district\",f.format_string(\n",
    "        \"%03d\",col(\"council_district\").cast(\"int\")\n",
    "    )\n",
    ")"
   ]
  },
  {
   "cell_type": "code",
   "execution_count": 90,
   "metadata": {},
   "outputs": [
    {
     "name": "stdout",
     "output_type": "stream",
     "text": [
      "22/10/21 13:40:02 WARN TaskSetManager: Stage 68 contains a task of very large size (12594 KiB). The maximum recommended task size is 1000 KiB.\n"
     ]
    },
    {
     "name": "stderr",
     "output_type": "stream",
     "text": [
      "[Stage 68:===================================================>    (11 + 1) / 12]\r"
     ]
    },
    {
     "name": "stdout",
     "output_type": "stream",
     "text": [
      "+----------------+\n",
      "|council_district|\n",
      "+----------------+\n",
      "|             009|\n",
      "|             006|\n",
      "|             005|\n",
      "+----------------+\n",
      "only showing top 3 rows\n",
      "\n"
     ]
    },
    {
     "name": "stderr",
     "output_type": "stream",
     "text": [
      "                                                                                \r"
     ]
    },
    {
     "data": {
      "text/plain": [
       "(None,\n",
       " [('case_id', 'bigint'),\n",
       "  ('case_opened_date', 'timestamp'),\n",
       "  ('case_closed_date', 'timestamp'),\n",
       "  ('case_due_date', 'timestamp'),\n",
       "  ('case_late', 'boolean'),\n",
       "  ('num_days_late', 'double'),\n",
       "  ('case_closed', 'boolean'),\n",
       "  ('dept_division', 'string'),\n",
       "  ('service_request_type', 'string'),\n",
       "  ('SLA_days', 'double'),\n",
       "  ('case_status', 'string'),\n",
       "  ('source_id', 'string'),\n",
       "  ('request_address', 'string'),\n",
       "  ('council_district', 'string'),\n",
       "  ('num_weeks_late', 'double')])"
      ]
     },
     "execution_count": 90,
     "metadata": {},
     "output_type": "execute_result"
    }
   ],
   "source": [
    "df.select(\"council_district\").distinct().show(3),df.dtypes"
   ]
  },
  {
   "cell_type": "code",
   "execution_count": 95,
   "metadata": {},
   "outputs": [
    {
     "name": "stdout",
     "output_type": "stream",
     "text": [
      "22/10/21 13:45:54 WARN TaskSetManager: Stage 75 contains a task of very large size (12594 KiB). The maximum recommended task size is 1000 KiB.\n"
     ]
    },
    {
     "name": "stderr",
     "output_type": "stream",
     "text": [
      "[Stage 75:>                                                         (0 + 1) / 1]\r"
     ]
    },
    {
     "name": "stdout",
     "output_type": "stream",
     "text": [
      "22/10/21 13:45:58 WARN PythonRunner: Detected deadlock while completing task 0.0 in stage 75 (TID 218): Attempting to kill Python Worker\n",
      "+--------+\n",
      "|zip_code|\n",
      "+--------+\n",
      "|   78207|\n",
      "|   78223|\n",
      "|   78223|\n",
      "|   78223|\n",
      "|   78228|\n",
      "+--------+\n",
      "only showing top 5 rows\n",
      "\n"
     ]
    },
    {
     "name": "stderr",
     "output_type": "stream",
     "text": [
      "                                                                                \r"
     ]
    }
   ],
   "source": [
    "df.withColumn(\"zip_code\",\n",
    "f.regexp_extract(\"request_address\",r'\\d+$',0)).select('zip_code').show(5)"
   ]
  },
  {
   "cell_type": "code",
   "execution_count": 97,
   "metadata": {},
   "outputs": [
    {
     "name": "stdout",
     "output_type": "stream",
     "text": [
      "22/10/21 13:46:54 WARN TaskSetManager: Stage 76 contains a task of very large size (12594 KiB). The maximum recommended task size is 1000 KiB.\n"
     ]
    },
    {
     "name": "stderr",
     "output_type": "stream",
     "text": [
      "[Stage 76:>                                                         (0 + 1) / 1]\r"
     ]
    },
    {
     "name": "stdout",
     "output_type": "stream",
     "text": [
      "22/10/21 13:46:58 WARN PythonRunner: Detected deadlock while completing task 0.0 in stage 76 (TID 219): Attempting to kill Python Worker\n",
      "+-------------------------------------+--------+\n",
      "|request_address                      |zip_code|\n",
      "+-------------------------------------+--------+\n",
      "|2315  el paso st, san antonio, 78207 |78207   |\n",
      "|2215  goliad rd, san antonio, 78223  |78223   |\n",
      "|102  palfrey st w, san antonio, 78223|78223   |\n",
      "|114  la garde st, san antonio, 78223 |78223   |\n",
      "|734  clearview dr, san antonio, 78228|78228   |\n",
      "+-------------------------------------+--------+\n",
      "only showing top 5 rows\n",
      "\n"
     ]
    },
    {
     "name": "stderr",
     "output_type": "stream",
     "text": [
      "                                                                                \r"
     ]
    }
   ],
   "source": [
    "df = df.withColumn(\"zip_code\",\n",
    "f.regexp_extract(\"request_address\",r'\\d+$',0))\n",
    "df.select(\"request_address\",\"zip_code\").show(5,truncate=False)"
   ]
  },
  {
   "cell_type": "code",
   "execution_count": 106,
   "metadata": {},
   "outputs": [
    {
     "data": {
      "text/html": [
       "<div>\n",
       "<style scoped>\n",
       "    .dataframe tbody tr th:only-of-type {\n",
       "        vertical-align: middle;\n",
       "    }\n",
       "\n",
       "    .dataframe tbody tr th {\n",
       "        vertical-align: top;\n",
       "    }\n",
       "\n",
       "    .dataframe thead th {\n",
       "        text-align: right;\n",
       "    }\n",
       "</style>\n",
       "<table border=\"1\" class=\"dataframe\">\n",
       "  <thead>\n",
       "    <tr style=\"text-align: right;\">\n",
       "      <th></th>\n",
       "      <th>case_id</th>\n",
       "      <th>case_opened_date</th>\n",
       "      <th>case_closed_date</th>\n",
       "      <th>SLA_due_date</th>\n",
       "      <th>case_late</th>\n",
       "      <th>num_days_late</th>\n",
       "      <th>case_closed</th>\n",
       "      <th>dept_division</th>\n",
       "      <th>service_request_type</th>\n",
       "      <th>SLA_days</th>\n",
       "      <th>case_status</th>\n",
       "      <th>source_id</th>\n",
       "      <th>request_address</th>\n",
       "      <th>council_district</th>\n",
       "    </tr>\n",
       "  </thead>\n",
       "  <tbody>\n",
       "    <tr>\n",
       "      <th>0</th>\n",
       "      <td>1014127332</td>\n",
       "      <td>1/1/18 0:42</td>\n",
       "      <td>1/1/18 12:29</td>\n",
       "      <td>9/26/20 0:42</td>\n",
       "      <td>NO</td>\n",
       "      <td>-998.508762</td>\n",
       "      <td>YES</td>\n",
       "      <td>Field Operations</td>\n",
       "      <td>Stray Animal</td>\n",
       "      <td>999.000000</td>\n",
       "      <td>Closed</td>\n",
       "      <td>svcCRMLS</td>\n",
       "      <td>2315  EL PASO ST, San Antonio, 78207</td>\n",
       "      <td>5</td>\n",
       "    </tr>\n",
       "    <tr>\n",
       "      <th>1</th>\n",
       "      <td>1014127333</td>\n",
       "      <td>1/1/18 0:46</td>\n",
       "      <td>1/3/18 8:11</td>\n",
       "      <td>1/5/18 8:30</td>\n",
       "      <td>NO</td>\n",
       "      <td>-2.012604</td>\n",
       "      <td>YES</td>\n",
       "      <td>Storm Water</td>\n",
       "      <td>Removal Of Obstruction</td>\n",
       "      <td>4.322222</td>\n",
       "      <td>Closed</td>\n",
       "      <td>svcCRMSS</td>\n",
       "      <td>2215  GOLIAD RD, San Antonio, 78223</td>\n",
       "      <td>3</td>\n",
       "    </tr>\n",
       "    <tr>\n",
       "      <th>2</th>\n",
       "      <td>1014127334</td>\n",
       "      <td>1/1/18 0:48</td>\n",
       "      <td>1/2/18 7:57</td>\n",
       "      <td>1/5/18 8:30</td>\n",
       "      <td>NO</td>\n",
       "      <td>-3.022338</td>\n",
       "      <td>YES</td>\n",
       "      <td>Storm Water</td>\n",
       "      <td>Removal Of Obstruction</td>\n",
       "      <td>4.320729</td>\n",
       "      <td>Closed</td>\n",
       "      <td>svcCRMSS</td>\n",
       "      <td>102  PALFREY ST W, San Antonio, 78223</td>\n",
       "      <td>3</td>\n",
       "    </tr>\n",
       "    <tr>\n",
       "      <th>3</th>\n",
       "      <td>1014127335</td>\n",
       "      <td>1/1/18 1:29</td>\n",
       "      <td>1/2/18 8:13</td>\n",
       "      <td>1/17/18 8:30</td>\n",
       "      <td>NO</td>\n",
       "      <td>-15.011481</td>\n",
       "      <td>YES</td>\n",
       "      <td>Code Enforcement</td>\n",
       "      <td>Front Or Side Yard Parking</td>\n",
       "      <td>16.291887</td>\n",
       "      <td>Closed</td>\n",
       "      <td>svcCRMSS</td>\n",
       "      <td>114  LA GARDE ST, San Antonio, 78223</td>\n",
       "      <td>3</td>\n",
       "    </tr>\n",
       "    <tr>\n",
       "      <th>4</th>\n",
       "      <td>1014127336</td>\n",
       "      <td>1/1/18 1:34</td>\n",
       "      <td>1/1/18 13:29</td>\n",
       "      <td>1/1/18 4:34</td>\n",
       "      <td>YES</td>\n",
       "      <td>0.372164</td>\n",
       "      <td>YES</td>\n",
       "      <td>Field Operations</td>\n",
       "      <td>Animal Cruelty(Critical)</td>\n",
       "      <td>0.125000</td>\n",
       "      <td>Closed</td>\n",
       "      <td>svcCRMSS</td>\n",
       "      <td>734  CLEARVIEW DR, San Antonio, 78228</td>\n",
       "      <td>7</td>\n",
       "    </tr>\n",
       "    <tr>\n",
       "      <th>...</th>\n",
       "      <td>...</td>\n",
       "      <td>...</td>\n",
       "      <td>...</td>\n",
       "      <td>...</td>\n",
       "      <td>...</td>\n",
       "      <td>...</td>\n",
       "      <td>...</td>\n",
       "      <td>...</td>\n",
       "      <td>...</td>\n",
       "      <td>...</td>\n",
       "      <td>...</td>\n",
       "      <td>...</td>\n",
       "      <td>...</td>\n",
       "      <td>...</td>\n",
       "    </tr>\n",
       "    <tr>\n",
       "      <th>841699</th>\n",
       "      <td>1014127325</td>\n",
       "      <td>12/31/17 22:23</td>\n",
       "      <td>12/31/17 22:34</td>\n",
       "      <td>1/3/18 8:30</td>\n",
       "      <td>NO</td>\n",
       "      <td>-2.413681</td>\n",
       "      <td>YES</td>\n",
       "      <td>Signals</td>\n",
       "      <td>Traffic Signal Ops and Maintenance - Emergency</td>\n",
       "      <td>2.421319</td>\n",
       "      <td>Closed</td>\n",
       "      <td>120752</td>\n",
       "      <td>FLORES ST S and MARCH AVE</td>\n",
       "      <td>3</td>\n",
       "    </tr>\n",
       "    <tr>\n",
       "      <th>841700</th>\n",
       "      <td>1014127326</td>\n",
       "      <td>12/31/17 22:26</td>\n",
       "      <td>1/1/18 20:29</td>\n",
       "      <td>1/1/18 10:26</td>\n",
       "      <td>YES</td>\n",
       "      <td>0.418773</td>\n",
       "      <td>YES</td>\n",
       "      <td>Field Operations</td>\n",
       "      <td>Trapped/Confined Animal</td>\n",
       "      <td>0.500000</td>\n",
       "      <td>Closed</td>\n",
       "      <td>139345</td>\n",
       "      <td>223  BRACKENRIDGE A, San Antonio, 78209</td>\n",
       "      <td>2</td>\n",
       "    </tr>\n",
       "    <tr>\n",
       "      <th>841701</th>\n",
       "      <td>1014127327</td>\n",
       "      <td>12/31/17 22:27</td>\n",
       "      <td>1/1/18 9:56</td>\n",
       "      <td>1/3/18 8:30</td>\n",
       "      <td>NO</td>\n",
       "      <td>-1.939688</td>\n",
       "      <td>YES</td>\n",
       "      <td>Signals</td>\n",
       "      <td>Traffic Signal Ops and Maintenance - Emergency</td>\n",
       "      <td>2.418275</td>\n",
       "      <td>Closed</td>\n",
       "      <td>CRM_Listener</td>\n",
       "      <td>COMMERCE ST W and ZARZAMORA N</td>\n",
       "      <td>5</td>\n",
       "    </tr>\n",
       "    <tr>\n",
       "      <th>841702</th>\n",
       "      <td>1014127329</td>\n",
       "      <td>12/31/17 22:41</td>\n",
       "      <td>3/19/18 20:33</td>\n",
       "      <td>1/5/18 22:41</td>\n",
       "      <td>YES</td>\n",
       "      <td>72.911493</td>\n",
       "      <td>YES</td>\n",
       "      <td>Field Operations</td>\n",
       "      <td>Animal Neglect</td>\n",
       "      <td>5.000000</td>\n",
       "      <td>Closed</td>\n",
       "      <td>139345</td>\n",
       "      <td>5655  UTSA BLVD, San Antonio, 78249</td>\n",
       "      <td>8</td>\n",
       "    </tr>\n",
       "    <tr>\n",
       "      <th>841703</th>\n",
       "      <td>1014127331</td>\n",
       "      <td>12/31/17 22:44</td>\n",
       "      <td>1/1/18 11:14</td>\n",
       "      <td>1/5/18 22:44</td>\n",
       "      <td>NO</td>\n",
       "      <td>-4.478935</td>\n",
       "      <td>YES</td>\n",
       "      <td>Field Operations</td>\n",
       "      <td>Animal Neglect</td>\n",
       "      <td>5.000000</td>\n",
       "      <td>Closed</td>\n",
       "      <td>120752</td>\n",
       "      <td>124  REMOUNT DR, San Antonio, 78218</td>\n",
       "      <td>2</td>\n",
       "    </tr>\n",
       "  </tbody>\n",
       "</table>\n",
       "<p>841704 rows × 14 columns</p>\n",
       "</div>"
      ],
      "text/plain": [
       "           case_id case_opened_date case_closed_date  SLA_due_date case_late  \\\n",
       "0       1014127332      1/1/18 0:42     1/1/18 12:29  9/26/20 0:42        NO   \n",
       "1       1014127333      1/1/18 0:46      1/3/18 8:11   1/5/18 8:30        NO   \n",
       "2       1014127334      1/1/18 0:48      1/2/18 7:57   1/5/18 8:30        NO   \n",
       "3       1014127335      1/1/18 1:29      1/2/18 8:13  1/17/18 8:30        NO   \n",
       "4       1014127336      1/1/18 1:34     1/1/18 13:29   1/1/18 4:34       YES   \n",
       "...            ...              ...              ...           ...       ...   \n",
       "841699  1014127325   12/31/17 22:23   12/31/17 22:34   1/3/18 8:30        NO   \n",
       "841700  1014127326   12/31/17 22:26     1/1/18 20:29  1/1/18 10:26       YES   \n",
       "841701  1014127327   12/31/17 22:27      1/1/18 9:56   1/3/18 8:30        NO   \n",
       "841702  1014127329   12/31/17 22:41    3/19/18 20:33  1/5/18 22:41       YES   \n",
       "841703  1014127331   12/31/17 22:44     1/1/18 11:14  1/5/18 22:44        NO   \n",
       "\n",
       "        num_days_late case_closed     dept_division  \\\n",
       "0         -998.508762         YES  Field Operations   \n",
       "1           -2.012604         YES       Storm Water   \n",
       "2           -3.022338         YES       Storm Water   \n",
       "3          -15.011481         YES  Code Enforcement   \n",
       "4            0.372164         YES  Field Operations   \n",
       "...               ...         ...               ...   \n",
       "841699      -2.413681         YES           Signals   \n",
       "841700       0.418773         YES  Field Operations   \n",
       "841701      -1.939688         YES           Signals   \n",
       "841702      72.911493         YES  Field Operations   \n",
       "841703      -4.478935         YES  Field Operations   \n",
       "\n",
       "                                  service_request_type    SLA_days  \\\n",
       "0                                         Stray Animal  999.000000   \n",
       "1                               Removal Of Obstruction    4.322222   \n",
       "2                               Removal Of Obstruction    4.320729   \n",
       "3                           Front Or Side Yard Parking   16.291887   \n",
       "4                             Animal Cruelty(Critical)    0.125000   \n",
       "...                                                ...         ...   \n",
       "841699  Traffic Signal Ops and Maintenance - Emergency    2.421319   \n",
       "841700                         Trapped/Confined Animal    0.500000   \n",
       "841701  Traffic Signal Ops and Maintenance - Emergency    2.418275   \n",
       "841702                                  Animal Neglect    5.000000   \n",
       "841703                                  Animal Neglect    5.000000   \n",
       "\n",
       "       case_status     source_id                          request_address  \\\n",
       "0           Closed      svcCRMLS     2315  EL PASO ST, San Antonio, 78207   \n",
       "1           Closed      svcCRMSS      2215  GOLIAD RD, San Antonio, 78223   \n",
       "2           Closed      svcCRMSS    102  PALFREY ST W, San Antonio, 78223   \n",
       "3           Closed      svcCRMSS     114  LA GARDE ST, San Antonio, 78223   \n",
       "4           Closed      svcCRMSS    734  CLEARVIEW DR, San Antonio, 78228   \n",
       "...            ...           ...                                      ...   \n",
       "841699      Closed        120752                FLORES ST S and MARCH AVE   \n",
       "841700      Closed        139345  223  BRACKENRIDGE A, San Antonio, 78209   \n",
       "841701      Closed  CRM_Listener            COMMERCE ST W and ZARZAMORA N   \n",
       "841702      Closed        139345      5655  UTSA BLVD, San Antonio, 78249   \n",
       "841703      Closed        120752      124  REMOUNT DR, San Antonio, 78218   \n",
       "\n",
       "        council_district  \n",
       "0                      5  \n",
       "1                      3  \n",
       "2                      3  \n",
       "3                      3  \n",
       "4                      7  \n",
       "...                  ...  \n",
       "841699                 3  \n",
       "841700                 2  \n",
       "841701                 5  \n",
       "841702                 8  \n",
       "841703                 2  \n",
       "\n",
       "[841704 rows x 14 columns]"
      ]
     },
     "execution_count": 106,
     "metadata": {},
     "output_type": "execute_result"
    }
   ],
   "source": [
    "pandas_df"
   ]
  },
  {
   "cell_type": "code",
   "execution_count": 100,
   "metadata": {},
   "outputs": [],
   "source": [
    "df = (\n",
    "    df.withColumn(\n",
    "        \"case_age\", f.datediff(f.current_timestamp(), \"case_opened_date\")\n",
    "    )\n",
    "    .withColumn(\n",
    "        \"days_to_closed\", f.datediff(\"case_closed_date\", \"case_opened_date\")\n",
    "    )\n",
    "    .withColumn(\n",
    "        \"case_lifetime\",\n",
    "        f.when(expr(\"! case_closed\"), col(\"case_age\")).otherwise(\n",
    "            col(\"days_to_closed\")\n",
    "        ),\n",
    "    )\n",
    ")\n"
   ]
  },
  {
   "cell_type": "code",
   "execution_count": 101,
   "metadata": {},
   "outputs": [
    {
     "name": "stdout",
     "output_type": "stream",
     "text": [
      "22/10/21 13:53:21 WARN TaskSetManager: Stage 77 contains a task of very large size (12594 KiB). The maximum recommended task size is 1000 KiB.\n"
     ]
    },
    {
     "name": "stderr",
     "output_type": "stream",
     "text": [
      "[Stage 77:>                                                         (0 + 1) / 1]\r"
     ]
    },
    {
     "name": "stdout",
     "output_type": "stream",
     "text": [
      "22/10/21 13:53:25 WARN PythonRunner: Detected deadlock while completing task 0.0 in stage 77 (TID 220): Attempting to kill Python Worker\n",
      "+-----------+-------------------+-------------------+--------+--------------+-------------+\n",
      "|case_closed|   case_opened_date|   case_closed_date|case_age|days_to_closed|case_lifetime|\n",
      "+-----------+-------------------+-------------------+--------+--------------+-------------+\n",
      "|       true|2018-01-01 00:42:00|2018-01-01 12:29:00|    1754|             0|            0|\n",
      "|       true|2018-01-01 00:46:00|2018-01-03 08:11:00|    1754|             2|            2|\n",
      "|       true|2018-01-01 00:48:00|2018-01-02 07:57:00|    1754|             1|            1|\n",
      "|       true|2018-01-01 01:29:00|2018-01-02 08:13:00|    1754|             1|            1|\n",
      "|       true|2018-01-01 01:34:00|2018-01-01 13:29:00|    1754|             0|            0|\n",
      "+-----------+-------------------+-------------------+--------+--------------+-------------+\n",
      "only showing top 5 rows\n",
      "\n"
     ]
    },
    {
     "name": "stderr",
     "output_type": "stream",
     "text": [
      "                                                                                \r"
     ]
    }
   ],
   "source": [
    "\n",
    "df.select(\n",
    "    \"case_closed\",\n",
    "    \"case_opened_date\",\n",
    "    \"case_closed_date\",\n",
    "    \"case_age\",\n",
    "    \"days_to_closed\",\n",
    "    \"case_lifetime\",\n",
    ").where(expr(\"case_closed\")).show(5)\n"
   ]
  },
  {
   "cell_type": "code",
   "execution_count": 102,
   "metadata": {},
   "outputs": [
    {
     "name": "stdout",
     "output_type": "stream",
     "text": [
      "22/10/21 13:53:31 WARN TaskSetManager: Stage 78 contains a task of very large size (12594 KiB). The maximum recommended task size is 1000 KiB.\n"
     ]
    },
    {
     "name": "stderr",
     "output_type": "stream",
     "text": [
      "[Stage 78:>                                                         (0 + 1) / 1]\r"
     ]
    },
    {
     "name": "stdout",
     "output_type": "stream",
     "text": [
      "22/10/21 13:53:35 WARN PythonRunner: Detected deadlock while completing task 0.0 in stage 78 (TID 221): Attempting to kill Python Worker\n",
      "+-----------+-------------------+----------------+--------+--------------+-------------+\n",
      "|case_closed|   case_opened_date|case_closed_date|case_age|days_to_closed|case_lifetime|\n",
      "+-----------+-------------------+----------------+--------+--------------+-------------+\n",
      "|      false|2018-01-02 09:39:00|            null|    1753|          null|         1753|\n",
      "|      false|2018-01-02 10:49:00|            null|    1753|          null|         1753|\n",
      "|      false|2018-01-02 13:45:00|            null|    1753|          null|         1753|\n",
      "|      false|2018-01-02 14:09:00|            null|    1753|          null|         1753|\n",
      "|      false|2018-01-02 14:34:00|            null|    1753|          null|         1753|\n",
      "+-----------+-------------------+----------------+--------+--------------+-------------+\n",
      "only showing top 5 rows\n",
      "\n"
     ]
    },
    {
     "name": "stderr",
     "output_type": "stream",
     "text": [
      "                                                                                \r"
     ]
    }
   ],
   "source": [
    "\n",
    "df.select(\n",
    "    \"case_closed\",\n",
    "    \"case_opened_date\",\n",
    "    \"case_closed_date\",\n",
    "    \"case_age\",\n",
    "    \"days_to_closed\",\n",
    "    \"case_lifetime\",\n",
    ").where(expr(\"! case_closed\")).show(5)\n"
   ]
  },
  {
   "cell_type": "code",
   "execution_count": 108,
   "metadata": {},
   "outputs": [
    {
     "name": "stdout",
     "output_type": "stream",
     "text": [
      "+--------------------+--------------------+----------------------+-------------------+\n",
      "|       dept_division|           dept_name|standardized_dept_name|dept_subject_to_SLA|\n",
      "+--------------------+--------------------+----------------------+-------------------+\n",
      "|     311 Call Center|    Customer Service|      Customer Service|                YES|\n",
      "|               Brush|Solid Waste Manag...|           Solid Waste|                YES|\n",
      "|     Clean and Green|Parks and Recreation|    Parks & Recreation|                YES|\n",
      "|Clean and Green N...|Parks and Recreation|    Parks & Recreation|                YES|\n",
      "+--------------------+--------------------+----------------------+-------------------+\n",
      "only showing top 4 rows\n",
      "\n"
     ]
    },
    {
     "name": "stderr",
     "output_type": "stream",
     "text": [
      "/usr/local/anaconda3/lib/python3.9/site-packages/pyspark/sql/pandas/conversion.py:474: FutureWarning: iteritems is deprecated and will be removed in a future version. Use .items instead.\n",
      "  for column, series in pdf.iteritems():\n",
      "/usr/local/anaconda3/lib/python3.9/site-packages/pyspark/sql/pandas/conversion.py:486: FutureWarning: iteritems is deprecated and will be removed in a future version. Use .items instead.\n",
      "  for column, series in pdf.iteritems():\n"
     ]
    }
   ],
   "source": [
    "query = \"\"\"SELECT * FROM dept\"\"\"\n",
    "dept = pd.read_sql(query, url)\n",
    "dept = spark.createDataFrame(dept)\n",
    "dept.show(4)\n"
   ]
  },
  {
   "cell_type": "code",
   "execution_count": 109,
   "metadata": {},
   "outputs": [
    {
     "name": "stdout",
     "output_type": "stream",
     "text": [
      "22/10/21 14:10:43 WARN TaskSetManager: Stage 81 contains a task of very large size (12594 KiB). The maximum recommended task size is 1000 KiB.\n"
     ]
    },
    {
     "name": "stderr",
     "output_type": "stream",
     "text": [
      "[Stage 81:>               (0 + 12) / 12][Stage 82:>                (0 + 0) / 12]\r"
     ]
    },
    {
     "name": "stdout",
     "output_type": "stream",
     "text": [
      "22/10/21 14:10:47 WARN PythonRunner: Detected deadlock while completing task 9.0 in stage 81 (TID 233): Attempting to kill Python Worker\n",
      "22/10/21 14:10:47 WARN PythonRunner: Detected deadlock while completing task 11.0 in stage 81 (TID 235): Attempting to kill Python Worker\n",
      "22/10/21 14:10:47 WARN PythonRunner: Detected deadlock while completing task 8.0 in stage 81 (TID 232): Attempting to kill Python Worker\n",
      "22/10/21 14:10:47 WARN PythonRunner: Detected deadlock while completing task 7.0 in stage 81 (TID 231): Attempting to kill Python Worker\n",
      "22/10/21 14:10:47 WARN PythonRunner: Detected deadlock while completing task 5.0 in stage 81 (TID 229): Attempting to kill Python Worker\n",
      "22/10/21 14:10:47 WARN PythonRunner: Detected deadlock while completing task 10.0 in stage 81 (TID 234): Attempting to kill Python Worker\n",
      "22/10/21 14:10:47 WARN PythonRunner: Detected deadlock while completing task 4.0 in stage 81 (TID 228): Attempting to kill Python Worker\n",
      "22/10/21 14:10:47 WARN PythonRunner: Detected deadlock while completing task 6.0 in stage 81 (TID 230): Attempting to kill Python Worker\n",
      "22/10/21 14:10:47 WARN PythonRunner: Detected deadlock while completing task 2.0 in stage 81 (TID 226): Attempting to kill Python Worker\n",
      "22/10/21 14:10:47 WARN PythonRunner: Detected deadlock while completing task 1.0 in stage 81 (TID 225): Attempting to kill Python Worker\n",
      "22/10/21 14:10:47 WARN PythonRunner: Detected deadlock while completing task 0.0 in stage 81 (TID 224): Attempting to kill Python Worker\n",
      "22/10/21 14:10:47 WARN PythonRunner: Detected deadlock while completing task 3.0 in stage 81 (TID 227): Attempting to kill Python Worker\n",
      "-RECORD 0------------------------------------\n",
      " case_id              | 1014127332           \n",
      " case_opened_date     | 2018-01-01 00:42:00  \n",
      " case_closed_date     | 2018-01-01 12:29:00  \n",
      " case_due_date        | 2020-09-26 00:42:00  \n",
      " case_late            | false                \n",
      " num_days_late        | -998.5087616         \n",
      " case_closed          | true                 \n",
      " service_request_type | Stray Animal         \n",
      " SLA_days             | 999.0                \n",
      " case_status          | Closed               \n",
      " source_id            | svcCRMLS             \n",
      " request_address      | 2315  el paso st,... \n",
      " council_district     | 005                  \n",
      " num_weeks_late       | -142.6441088         \n",
      " zip_code             | 78207                \n",
      " case_age             | 1754                 \n",
      " days_to_closed       | 0                    \n",
      " case_lifetime        | 0                    \n",
      " department           | Animal Care Services \n",
      " dept_subject_to_SLA  | true                 \n",
      "-RECORD 1------------------------------------\n",
      " case_id              | 1014127333           \n",
      " case_opened_date     | 2018-01-01 00:46:00  \n",
      " case_closed_date     | 2018-01-03 08:11:00  \n",
      " case_due_date        | 2018-01-05 08:30:00  \n",
      " case_late            | false                \n",
      " num_days_late        | -2.012604167         \n",
      " case_closed          | true                 \n",
      " service_request_type | Removal Of Obstru... \n",
      " SLA_days             | 4.322222222          \n",
      " case_status          | Closed               \n",
      " source_id            | svcCRMSS             \n",
      " request_address      | 2215  goliad rd, ... \n",
      " council_district     | 003                  \n",
      " num_weeks_late       | -0.287514881         \n",
      " zip_code             | 78223                \n",
      " case_age             | 1754                 \n",
      " days_to_closed       | 2                    \n",
      " case_lifetime        | 2                    \n",
      " department           | Trans & Cap Impro... \n",
      " dept_subject_to_SLA  | true                 \n",
      "only showing top 2 rows\n",
      "\n"
     ]
    },
    {
     "name": "stderr",
     "output_type": "stream",
     "text": [
      "                                                                                \r"
     ]
    }
   ],
   "source": [
    " df = (\n",
    "    df\n",
    "    # left join on dept_division\n",
    "    .join(dept, \"dept_division\", \"left\")\n",
    "    # drop all the columns except for standardized name, as it has much fewer unique values\n",
    "    .drop(dept.dept_division)\n",
    "    .drop(dept.dept_name)\n",
    "    .drop(df.dept_division)\n",
    "    .withColumnRenamed(\"standardized_dept_name\", \"department\")\n",
    "    # convert to a boolean\n",
    "    .withColumn(\"dept_subject_to_SLA\", col(\"dept_subject_to_SLA\") == \"YES\")\n",
    ")\n",
    "\n",
    "df.show(2, vertical=True)\n"
   ]
  },
  {
   "cell_type": "code",
   "execution_count": 110,
   "metadata": {},
   "outputs": [],
   "source": [
    "train, test = df.randomSplit([0.8, 0.2])\n",
    "#\n",
    "train, validate, test = df.randomSplit([0.6, 0.2, 0.2])\n"
   ]
  },
  {
   "cell_type": "code",
   "execution_count": null,
   "metadata": {},
   "outputs": [],
   "source": []
  }
 ],
 "metadata": {
  "kernelspec": {
   "display_name": "Python 3.9.13 ('base')",
   "language": "python",
   "name": "python3"
  },
  "language_info": {
   "codemirror_mode": {
    "name": "ipython",
    "version": 3
   },
   "file_extension": ".py",
   "mimetype": "text/x-python",
   "name": "python",
   "nbconvert_exporter": "python",
   "pygments_lexer": "ipython3",
   "version": "3.9.13"
  },
  "orig_nbformat": 4,
  "vscode": {
   "interpreter": {
    "hash": "3067ead486e059ec00ffe7555bdb889e6e264a24dc711bf108106cc7baee8d5d"
   }
  }
 },
 "nbformat": 4,
 "nbformat_minor": 2
}
